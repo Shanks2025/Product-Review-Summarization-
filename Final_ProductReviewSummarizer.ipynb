{
  "nbformat": 4,
  "nbformat_minor": 0,
  "metadata": {
    "colab": {
      "provenance": [],
      "authorship_tag": "ABX9TyPK1HVELdNh2J5cQiEHIohU",
      "include_colab_link": true
    },
    "kernelspec": {
      "name": "python3",
      "display_name": "Python 3"
    },
    "language_info": {
      "name": "python"
    }
  },
  "cells": [
    {
      "cell_type": "markdown",
      "metadata": {
        "id": "view-in-github",
        "colab_type": "text"
      },
      "source": [
        "<a href=\"https://colab.research.google.com/github/Shanks2025/Product-Review-Summarization-/blob/main/Final_ProductReviewSummarizer.ipynb\" target=\"_parent\"><img src=\"https://colab.research.google.com/assets/colab-badge.svg\" alt=\"Open In Colab\"/></a>"
      ]
    },
    {
      "cell_type": "code",
      "execution_count": null,
      "metadata": {
        "colab": {
          "base_uri": "https://localhost:8080/"
        },
        "id": "4g15jJ7eoxda",
        "outputId": "0d17d7a0-47a7-4037-ccde-416c8159ff50"
      },
      "outputs": [
        {
          "output_type": "stream",
          "name": "stdout",
          "text": [
            "✅ app.py saved!\n"
          ]
        }
      ],
      "source": [
        "code = \"\"\"\n",
        "import streamlit as st\n",
        "from textblob import TextBlob\n",
        "from sumy.parsers.plaintext import PlaintextParser\n",
        "from sumy.nlp.tokenizers import Tokenizer\n",
        "from sumy.summarizers.lsa import LsaSummarizer\n",
        "import pandas as pd\n",
        "from wordcloud import WordCloud\n",
        "import matplotlib.pyplot as plt\n",
        "\n",
        "sample_reviews = [\n",
        "    \"This product is amazing! I've never been happier.\",\n",
        "    \"Terrible quality. Broke after one use.\",\n",
        "    \"Pretty decent for the price. Would buy again.\",\n",
        "    \"Not as described. Very disappointed.\",\n",
        "    \"Fantastic! Exceeded expectations in every way.\",\n",
        "]\n",
        "\n",
        "def get_sentiment(review):\n",
        "    return TextBlob(review).sentiment.polarity\n",
        "\n",
        "def summarize_reviews(reviews, num_sentences=3):\n",
        "    full_text = \" \".join(reviews)\n",
        "    parser = PlaintextParser.from_string(full_text, Tokenizer(\"english\"))\n",
        "    summarizer = LsaSummarizer()\n",
        "    summary = summarizer(parser.document, num_sentences)\n",
        "    return \" \".join(str(sentence) for sentence in summary)\n",
        "\n",
        "def generate_wordcloud(reviews):\n",
        "    text = \" \".join(reviews)\n",
        "    wordcloud = WordCloud(width=800, height=400, background_color='white').generate(text)\n",
        "    plt.figure(figsize=(10, 5))\n",
        "    plt.imshow(wordcloud, interpolation='bilinear')\n",
        "    plt.axis('off')\n",
        "    st.pyplot(plt)\n",
        "\n",
        "st.title(\"📝 Product Review Summarizer\")\n",
        "\n",
        "st.subheader(\"Sentiment Analysis & Summarization\")\n",
        "\n",
        "st.write(\"## Sample Reviews:\")\n",
        "for review in sample_reviews:\n",
        "    st.write(f\"- {review}\")\n",
        "\n",
        "sentiments = [get_sentiment(r) for r in sample_reviews]\n",
        "df = pd.DataFrame({\"Review\": sample_reviews, \"Sentiment\": sentiments})\n",
        "st.write(\"### Sentiment Scores:\")\n",
        "st.dataframe(df)\n",
        "\n",
        "st.write(\"### 🔍 Summary:\")\n",
        "st.success(summarize_reviews(sample_reviews))\n",
        "\n",
        "st.write(\"### ☁️ Word Cloud:\")\n",
        "generate_wordcloud(sample_reviews)\n",
        "\"\"\"\n",
        "\n",
        "with open(\"app.py\", \"w\") as f:\n",
        "    f.write(code)\n",
        "\n",
        "print(\"✅ app.py saved!\")"
      ]
    },
    {
      "cell_type": "code",
      "source": [
        "from google.colab import files\n",
        "files.download('app.py')"
      ],
      "metadata": {
        "colab": {
          "base_uri": "https://localhost:8080/",
          "height": 17
        },
        "id": "i6CCZc8kqivN",
        "outputId": "518d3d92-14e2-4763-a9fc-c89d68e3527d"
      },
      "execution_count": null,
      "outputs": [
        {
          "output_type": "display_data",
          "data": {
            "text/plain": [
              "<IPython.core.display.Javascript object>"
            ],
            "application/javascript": [
              "\n",
              "    async function download(id, filename, size) {\n",
              "      if (!google.colab.kernel.accessAllowed) {\n",
              "        return;\n",
              "      }\n",
              "      const div = document.createElement('div');\n",
              "      const label = document.createElement('label');\n",
              "      label.textContent = `Downloading \"${filename}\": `;\n",
              "      div.appendChild(label);\n",
              "      const progress = document.createElement('progress');\n",
              "      progress.max = size;\n",
              "      div.appendChild(progress);\n",
              "      document.body.appendChild(div);\n",
              "\n",
              "      const buffers = [];\n",
              "      let downloaded = 0;\n",
              "\n",
              "      const channel = await google.colab.kernel.comms.open(id);\n",
              "      // Send a message to notify the kernel that we're ready.\n",
              "      channel.send({})\n",
              "\n",
              "      for await (const message of channel.messages) {\n",
              "        // Send a message to notify the kernel that we're ready.\n",
              "        channel.send({})\n",
              "        if (message.buffers) {\n",
              "          for (const buffer of message.buffers) {\n",
              "            buffers.push(buffer);\n",
              "            downloaded += buffer.byteLength;\n",
              "            progress.value = downloaded;\n",
              "          }\n",
              "        }\n",
              "      }\n",
              "      const blob = new Blob(buffers, {type: 'application/binary'});\n",
              "      const a = document.createElement('a');\n",
              "      a.href = window.URL.createObjectURL(blob);\n",
              "      a.download = filename;\n",
              "      div.appendChild(a);\n",
              "      a.click();\n",
              "      div.remove();\n",
              "    }\n",
              "  "
            ]
          },
          "metadata": {}
        },
        {
          "output_type": "display_data",
          "data": {
            "text/plain": [
              "<IPython.core.display.Javascript object>"
            ],
            "application/javascript": [
              "download(\"download_c65c59bd-80c0-42d9-a5fe-0f3f1ec62f45\", \"app.py\", 1725)"
            ]
          },
          "metadata": {}
        }
      ]
    },
    {
      "cell_type": "code",
      "source": [
        "# Save your Streamlit code into app.py\n",
        "code = \"\"\"\n",
        "import streamlit as st\n",
        "st.title(\"Hello Streamlit from Colab!\")\n",
        "\"\"\"\n",
        "with open(\"app.py\", \"w\") as f:\n",
        "    f.write(code)"
      ],
      "metadata": {
        "id": "f_J_6mU5qomC"
      },
      "execution_count": 4,
      "outputs": []
    },
    {
      "cell_type": "code",
      "source": [],
      "metadata": {
        "id": "3WfmI0oGwhn1"
      },
      "execution_count": null,
      "outputs": []
    }
  ]
}